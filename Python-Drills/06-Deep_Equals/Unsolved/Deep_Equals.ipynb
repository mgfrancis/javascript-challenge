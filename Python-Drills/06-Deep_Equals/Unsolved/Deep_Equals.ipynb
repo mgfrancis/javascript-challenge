{
 "cells": [
  {
   "cell_type": "markdown",
   "metadata": {},
   "source": [
    "# Deep Equals\n",
    "\n",
    "Write a function that determines if two lists of numbers are equal"
   ]
  },
  {
   "cell_type": "code",
   "execution_count": 1,
   "metadata": {},
   "outputs": [],
   "source": [
    "a = [1, 2, 3]\n",
    "b = [1, 2, 3]\n",
    "c = [1, 2, 3, 4]\n",
    "d = [3, 2, 1]\n",
    "e = [1, 1, 2, 3]"
   ]
  },
  {
   "cell_type": "code",
   "execution_count": 10,
   "metadata": {},
   "outputs": [
    {
     "name": "stdout",
     "output_type": "stream",
     "text": [
      "a and b lists are equal\n"
     ]
    }
   ],
   "source": [
    "#Solution 1 - check of first two lists\n",
    "\n",
    "i = 0\n",
    "\n",
    "\n",
    "if len(a) == len(b) and i < len(a):\n",
    "    if a[i] in b and b[i] in a:\n",
    "        print(\"a and b lists are equal\")\n",
    "        i+1        \n",
    "       \n",
    "    else: \n",
    "        print(\"a and b lists are not equal\")\n",
    "\n",
    "elif len(a) != len(b):\n",
    "    print (\"a and b lists are not equal\")"
   ]
  },
  {
   "cell_type": "code",
   "execution_count": 23,
   "metadata": {},
   "outputs": [
    {
     "name": "stdout",
     "output_type": "stream",
     "text": [
      "[1, 2, 3] and [1, 2, 3] lists are equal\n",
      "[1, 2, 3] and [1, 2, 3] lists are equal\n",
      "[1, 2, 3] and [1, 2, 3, 4] are not equal\n",
      "[1, 2, 3] and [3, 2, 1] lists are equal\n",
      "[1, 2, 3] and [1, 1, 2, 3] are not equal\n",
      "[1, 2, 3] and [1, 2, 3] lists are equal\n",
      "[1, 2, 3] and [1, 2, 3] lists are equal\n",
      "[1, 2, 3] and [1, 2, 3, 4] are not equal\n",
      "[1, 2, 3] and [3, 2, 1] lists are equal\n",
      "[1, 2, 3] and [1, 1, 2, 3] are not equal\n",
      "[1, 2, 3, 4] and [1, 2, 3] are not equal\n",
      "[1, 2, 3, 4] and [1, 2, 3] are not equal\n",
      "[1, 2, 3, 4] and [1, 2, 3, 4] lists are equal\n",
      "[1, 2, 3, 4] and [3, 2, 1] are not equal\n",
      "[1, 2, 3, 4] and [1, 1, 2, 3] lists are equal\n",
      "[3, 2, 1] and [1, 2, 3] lists are equal\n",
      "[3, 2, 1] and [1, 2, 3] lists are equal\n",
      "[3, 2, 1] and [1, 2, 3, 4] are not equal\n",
      "[3, 2, 1] and [3, 2, 1] lists are equal\n",
      "[3, 2, 1] and [1, 1, 2, 3] are not equal\n",
      "[1, 1, 2, 3] and [1, 2, 3] are not equal\n",
      "[1, 1, 2, 3] and [1, 2, 3] are not equal\n",
      "[1, 1, 2, 3] and [1, 2, 3, 4] lists are equal\n",
      "[1, 1, 2, 3] and [3, 2, 1] are not equal\n",
      "[1, 1, 2, 3] and [1, 1, 2, 3] lists are equal\n"
     ]
    }
   ],
   "source": [
    "#Solution 2 - create two sets of lists within a list to compare each element with the other set\n",
    "\n",
    "f=0\n",
    "h=0\n",
    "i=0\n",
    "\n",
    "\n",
    "j = [a,b,c,d,e]\n",
    "k = [a,b,c,d,e]\n",
    "\n",
    "for h in j:\n",
    "    for f in k:\n",
    "     \n",
    "        if len(h) == len(f) and i< len(h):\n",
    "            if h[i] in f and f[i] in h:\n",
    "                print(f'{h} and {f} lists are equal')\n",
    "                i+1\n",
    "               \n",
    "                \n",
    "            elif h[i] not in f and f[i] not in h:\n",
    "                print (f'{h} and {f} lists are not equal')\n",
    "        \n",
    "        elif len(h) != len(f):\n",
    "            print(f'{h} and {f} are not equal')"
   ]
  },
  {
   "cell_type": "code",
   "execution_count": null,
   "metadata": {},
   "outputs": [],
   "source": []
  }
 ],
 "metadata": {
  "kernelspec": {
   "display_name": "Python 3",
   "language": "python",
   "name": "python3"
  },
  "language_info": {
   "codemirror_mode": {
    "name": "ipython",
    "version": 3
   },
   "file_extension": ".py",
   "mimetype": "text/x-python",
   "name": "python",
   "nbconvert_exporter": "python",
   "pygments_lexer": "ipython3",
   "version": "3.8.3"
  },
  "varInspector": {
   "cols": {
    "lenName": 16,
    "lenType": 16,
    "lenVar": 40
   },
   "kernels_config": {
    "python": {
     "delete_cmd_postfix": "",
     "delete_cmd_prefix": "del ",
     "library": "var_list.py",
     "varRefreshCmd": "print(var_dic_list())"
    },
    "r": {
     "delete_cmd_postfix": ") ",
     "delete_cmd_prefix": "rm(",
     "library": "var_list.r",
     "varRefreshCmd": "cat(var_dic_list()) "
    }
   },
   "types_to_exclude": [
    "module",
    "function",
    "builtin_function_or_method",
    "instance",
    "_Feature"
   ],
   "window_display": false
  }
 },
 "nbformat": 4,
 "nbformat_minor": 2
}
